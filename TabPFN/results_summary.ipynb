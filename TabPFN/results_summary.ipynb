{
 "cells": [
  {
   "cell_type": "code",
   "execution_count": 1,
   "id": "ef8a61db",
   "metadata": {},
   "outputs": [],
   "source": [
    "import pandas as pd\n",
    "import numpy as np"
   ]
  },
  {
   "cell_type": "code",
   "execution_count": 19,
   "id": "86ca57ef",
   "metadata": {},
   "outputs": [],
   "source": [
    "base_10 = pd.read_csv(\"results_base_fewshot10.csv\")\n",
    "base_20 = pd.read_csv(\"results_base_fewshot20.csv\")\n",
    "base_500 = pd.read_csv(\"results_base_fewshot500.csv\")\n",
    "base_4000 = pd.read_csv(\"results_base.csv\")\n",
    "# update csv column to take the last element after splitting by /\n",
    "base_10[\"csv\"] = base_10[\"csv\"].apply(lambda x: x.split(\"/\")[-1])\n",
    "base_20[\"csv\"] = base_20[\"csv\"].apply(lambda x: x.split(\"/\")[-1])\n",
    "base_500[\"csv\"] = base_500[\"csv\"].apply(lambda x: x.split(\"/\")[-1])\n",
    "base_4000[\"csv\"] = base_4000[\"csv\"].apply(lambda x: x.split(\"/\")[-1])\n",
    "# rename columns by prepending \"base\"\n",
    "base_10 = base_10.add_prefix(\"base_\")\n",
    "base_20 = base_20.add_prefix(\"base_\")\n",
    "base_500 = base_500.add_prefix(\"base_\")\n",
    "base_4000 = base_4000.add_prefix(\"base_\")"
   ]
  },
  {
   "cell_type": "code",
   "execution_count": 20,
   "id": "861ed9d0",
   "metadata": {},
   "outputs": [],
   "source": [
    "vorder_10 = pd.read_csv(\"results_shuffle_fewshot10_100.csv\")\n",
    "vorder_20 = pd.read_csv(\"results_shuffle_fewshot20_100.csv\")\n",
    "vorder_500 = pd.read_csv(\"results_shuffle_fewshot500_100.csv\")\n",
    "vorder_4000 = pd.read_csv(\"results_shuffle.csv\")\n",
    "# update csv column to take the last element after splitting by /\n",
    "vorder_10[\"csv\"] = vorder_10[\"csv\"].apply(lambda x: x.split(\"/\")[-1])\n",
    "vorder_20[\"csv\"] = vorder_20[\"csv\"].apply(lambda x: x.split(\"/\")[-1])\n",
    "vorder_500[\"csv\"] = vorder_500[\"csv\"].apply(lambda x: x.split(\"/\")[-1])\n",
    "vorder_4000[\"csv\"] = vorder_4000[\"csv\"].apply(lambda x: x.split(\"/\")[-1])\n",
    "# rename columns by prepending \"vorder\"\n",
    "vorder_10 = vorder_10.add_prefix(\"vorder_\")\n",
    "vorder_20 = vorder_20.add_prefix(\"vorder_\")\n",
    "vorder_500 = vorder_500.add_prefix(\"vorder_\")\n",
    "vorder_4000 = vorder_4000.add_prefix(\"vorder_\")"
   ]
  },
  {
   "cell_type": "code",
   "execution_count": 21,
   "id": "8b606a4a",
   "metadata": {},
   "outputs": [],
   "source": [
    "digits_10 = pd.read_csv(\"results_10_digits_fewshot10_100.csv\")\n",
    "digits_20 = pd.read_csv(\"results_10_digits_fewshot20_100.csv\")\n",
    "digits_500 = pd.read_csv(\"results_10_digits_fewshot500_100.csv\")\n",
    "digits_4000 = pd.read_csv(\"results_10_digits.csv\")\n",
    "# update csv column to take the last element after splitting by /\n",
    "digits_10[\"csv\"] = digits_10[\"csv\"].apply(lambda x: x.split(\"/\")[-1])\n",
    "digits_20[\"csv\"] = digits_20[\"csv\"].apply(lambda x: x.split(\"/\")[-1])\n",
    "digits_500[\"csv\"] = digits_500[\"csv\"].apply(lambda x: x.split(\"/\")[-1])\n",
    "digits_4000[\"csv\"] = digits_4000[\"csv\"].apply(lambda x: x.split(\"/\")[-1])\n",
    "# rename columns by prepending \"digits\"\n",
    "digits_10 = digits_10.add_prefix(\"digits_\")\n",
    "digits_20 = digits_20.add_prefix(\"digits_\")\n",
    "digits_500 = digits_500.add_prefix(\"digits_\")\n",
    "digits_4000 = digits_4000.add_prefix(\"digits_\")"
   ]
  },
  {
   "cell_type": "code",
   "execution_count": 22,
   "id": "80635bbb",
   "metadata": {},
   "outputs": [],
   "source": [
    "rorder_10 = pd.read_csv(\"results_rowOrder_fewshot10.csv\")\n",
    "rorder_20 = pd.read_csv(\"results_rowOrder_fewshot20_100.csv\")\n",
    "rorder_500 = pd.read_csv(\"results_rowOrder_fewshot500_100.csv\")\n",
    "rorder_4000 = pd.read_csv(\"results_rowOrder.csv\")\n",
    "# update csv column to take the last element after splitting by /\n",
    "rorder_10[\"csv\"] = rorder_10[\"csv\"].apply(lambda x: x.split(\"/\")[-1])\n",
    "rorder_20[\"csv\"] = rorder_20[\"csv\"].apply(lambda x: x.split(\"/\")[-1])\n",
    "rorder_500[\"csv\"] = rorder_500[\"csv\"].apply(lambda x: x.split(\"/\")[-1])\n",
    "rorder_4000[\"csv\"] = rorder_4000[\"csv\"].apply(lambda x: x.split(\"/\")[-1])\n",
    "# rename columns by prepending \"rorder\"\n",
    "rorder_10 = rorder_10.add_prefix(\"rorder_\")\n",
    "rorder_20 = rorder_20.add_prefix(\"rorder_\")\n",
    "rorder_500 = rorder_500.add_prefix(\"rorder_\")\n",
    "rorder_4000 = rorder_4000.add_prefix(\"rorder_\")"
   ]
  },
  {
   "cell_type": "code",
   "execution_count": 23,
   "id": "234b2a96",
   "metadata": {},
   "outputs": [
    {
     "name": "stdout",
     "output_type": "stream",
     "text": [
      "1.0916812112083707 0.2712001529091201\n",
      "0.728229837962413 0.19053378781118746\n",
      "0.10475734504278003 0.00976198517887769\n",
      "0.0974437734865699 0.008128104905732052\n"
     ]
    }
   ],
   "source": [
    "# get mean and std of mae\n",
    "print(base_10[\"base_mae\"].mean(), base_10[\"base_mae\"].std())\n",
    "print(base_20[\"base_mae\"].mean(), base_20[\"base_mae\"].std())\n",
    "print(base_500[\"base_mae\"].mean(), base_500[\"base_mae\"].std())\n",
    "print(base_4000[\"base_mae\"].mean(), base_4000[\"base_mae\"].std())"
   ]
  },
  {
   "cell_type": "code",
   "execution_count": 30,
   "id": "12f06225",
   "metadata": {},
   "outputs": [
    {
     "name": "stdout",
     "output_type": "stream",
     "text": [
      "vorder_10 mae change:  0.028740598065499254 0.03679477892993446\n",
      "vorder_20 mae change:  0.03340020457238667 0.031022265641357023\n",
      "vorder_500 mae change:  0.02536314830492322 0.01956538072840771\n",
      "vorder_4000 mae change:  0.019429744073904673 0.015006936068787073\n"
     ]
    }
   ],
   "source": [
    "# merge base with vorder based on base_csv == vorder_csv\n",
    "merged_10 = pd.merge(base_10, vorder_10, left_on=\"base_csv\", right_on=\"vorder_csv\", suffixes=(\"_base\", \"_vorder\"))\n",
    "merged_20 = pd.merge(base_20, vorder_20, left_on=\"base_csv\", right_on=\"vorder_csv\", suffixes=(\"_base\", \"_vorder\"))\n",
    "merged_500 = pd.merge(base_500, vorder_500, left_on=\"base_csv\", right_on=\"vorder_csv\", suffixes=(\"_base\", \"_vorder\"))\n",
    "merged_4000 = pd.merge(base_4000, vorder_4000, left_on=\"base_csv\", right_on=\"vorder_csv\", suffixes=(\"_base\", \"_vorder\"))\n",
    "# get abs change in mae\n",
    "merged_10[\"vorder_mae_change\"] = abs(merged_10[\"base_mae\"] - merged_10[\"vorder_mae\"]) / merged_10[\"base_mae\"]\n",
    "merged_20[\"vorder_mae_change\"] = abs(merged_20[\"base_mae\"] - merged_20[\"vorder_mae\"]) / merged_20[\"base_mae\"]\n",
    "merged_500[\"vorder_mae_change\"] = abs(merged_500[\"base_mae\"] - merged_500[\"vorder_mae\"]) / merged_500[\"base_mae\"]\n",
    "merged_4000[\"vorder_mae_change\"] = abs(merged_4000[\"base_mae\"] - merged_4000[\"vorder_mae\"]) / merged_4000[\"base_mae\"]\n",
    "# print mean and std of vorder_mae_change\n",
    "print(\"vorder_10 mae change: \", merged_10[\"vorder_mae_change\"].mean(), merged_10[\"vorder_mae_change\"].std())\n",
    "print(\"vorder_20 mae change: \", merged_20[\"vorder_mae_change\"].mean(), merged_20[\"vorder_mae_change\"].std())\n",
    "print(\"vorder_500 mae change: \", merged_500[\"vorder_mae_change\"].mean(), merged_500[\"vorder_mae_change\"].std())\n",
    "print(\"vorder_4000 mae change: \", merged_4000[\"vorder_mae_change\"].mean(), merged_4000[\"vorder_mae_change\"].std())\n"
   ]
  },
  {
   "cell_type": "code",
   "execution_count": 31,
   "id": "0ffe256a",
   "metadata": {},
   "outputs": [
    {
     "name": "stdout",
     "output_type": "stream",
     "text": [
      "digits_10 mae change:  0.011391372039404707 0.00950714707874255\n",
      "digits_20 mae change:  0.016046253973465235 0.014124032735234293\n",
      "digits_500 mae change:  0.008601903534689953 0.006129832952197184\n",
      "digits_4000 mae change:  0.007465189315047207 0.006168430949101114\n"
     ]
    }
   ],
   "source": [
    "# merge base with vorder based on base_csv == vorder_csv\n",
    "merged_10 = pd.merge(base_10, digits_10, left_on=\"base_csv\", right_on=\"digits_csv\", suffixes=(\"_base\", \"_vorder\"))\n",
    "merged_20 = pd.merge(base_20, digits_20, left_on=\"base_csv\", right_on=\"digits_csv\", suffixes=(\"_base\", \"_vorder\"))\n",
    "merged_500 = pd.merge(base_500, digits_500, left_on=\"base_csv\", right_on=\"digits_csv\", suffixes=(\"_base\", \"_vorder\"))\n",
    "merged_4000 = pd.merge(base_4000, digits_4000, left_on=\"base_csv\", right_on=\"digits_csv\", suffixes=(\"_base\", \"_vorder\"))\n",
    "# get abs change in mae\n",
    "merged_10[\"digits_mae_change\"] = abs(merged_10[\"base_mae\"] - merged_10[\"digits_mae\"]) / merged_10[\"base_mae\"]\n",
    "merged_20[\"digits_mae_change\"] = abs(merged_20[\"base_mae\"] - merged_20[\"digits_mae\"]) / merged_20[\"base_mae\"]\n",
    "merged_500[\"digits_mae_change\"] = abs(merged_500[\"base_mae\"] - merged_500[\"digits_mae\"]) / merged_500[\"base_mae\"]\n",
    "merged_4000[\"digits_mae_change\"] = abs(merged_4000[\"base_mae\"] - merged_4000[\"digits_mae\"]) / merged_4000[\"base_mae\"]\n",
    "# print mean and std of digits_mae_change\n",
    "print(\"digits_10 mae change: \", merged_10[\"digits_mae_change\"].mean(), merged_10[\"digits_mae_change\"].std())\n",
    "print(\"digits_20 mae change: \", merged_20[\"digits_mae_change\"].mean(), merged_20[\"digits_mae_change\"].std())\n",
    "print(\"digits_500 mae change: \", merged_500[\"digits_mae_change\"].mean(), merged_500[\"digits_mae_change\"].std())\n",
    "print(\"digits_4000 mae change: \", merged_4000[\"digits_mae_change\"].mean(), merged_4000[\"digits_mae_change\"].std())\n"
   ]
  },
  {
   "cell_type": "code",
   "execution_count": 32,
   "id": "78fcc7cb",
   "metadata": {},
   "outputs": [
    {
     "name": "stdout",
     "output_type": "stream",
     "text": [
      "rorder_10 mae change:  0.007389806044219882 0.009949464829684626\n",
      "rorder_20 mae change:  0.015121566129727142 0.012988554518995301\n",
      "rorder_500 mae change:  0.007370140636391089 0.0062530387116518215\n",
      "rorder_4000 mae change:  0.0066714754832248955 0.005818926087371324\n"
     ]
    }
   ],
   "source": [
    "# merge base with vorder based on base_csv == vorder_csv\n",
    "merged_10 = pd.merge(base_10, rorder_10, left_on=\"base_csv\", right_on=\"rorder_csv\", suffixes=(\"_base\", \"_vorder\"))\n",
    "merged_20 = pd.merge(base_20, rorder_20, left_on=\"base_csv\", right_on=\"rorder_csv\", suffixes=(\"_base\", \"_vorder\"))\n",
    "merged_500 = pd.merge(base_500, rorder_500, left_on=\"base_csv\", right_on=\"rorder_csv\", suffixes=(\"_base\", \"_vorder\"))\n",
    "merged_4000 = pd.merge(base_4000, rorder_4000, left_on=\"base_csv\", right_on=\"rorder_csv\", suffixes=(\"_base\", \"_vorder\"))\n",
    "# get abs change in mae\n",
    "merged_10[\"rorder_mae_change\"] = abs(merged_10[\"base_mae\"] - merged_10[\"rorder_mae\"]) / merged_10[\"base_mae\"]\n",
    "merged_20[\"rorder_mae_change\"] = abs(merged_20[\"base_mae\"] - merged_20[\"rorder_mae\"]) / merged_20[\"base_mae\"]\n",
    "merged_500[\"rorder_mae_change\"] = abs(merged_500[\"base_mae\"] - merged_500[\"rorder_mae\"]) / merged_500[\"base_mae\"]\n",
    "merged_4000[\"rorder_mae_change\"] = abs(merged_4000[\"base_mae\"] - merged_4000[\"rorder_mae\"]) / merged_4000[\"base_mae\"]\n",
    "# print mean and std of rorder_mae_change\n",
    "print(\"rorder_10 mae change: \", merged_10[\"rorder_mae_change\"].mean(), merged_10[\"rorder_mae_change\"].std())\n",
    "print(\"rorder_20 mae change: \", merged_20[\"rorder_mae_change\"].mean(), merged_20[\"rorder_mae_change\"].std())\n",
    "print(\"rorder_500 mae change: \", merged_500[\"rorder_mae_change\"].mean(), merged_500[\"rorder_mae_change\"].std())\n",
    "print(\"rorder_4000 mae change: \", merged_4000[\"rorder_mae_change\"].mean(), merged_4000[\"rorder_mae_change\"].std())\n"
   ]
  }
 ],
 "metadata": {
  "kernelspec": {
   "display_name": "responsibleai",
   "language": "python",
   "name": "python3"
  },
  "language_info": {
   "codemirror_mode": {
    "name": "ipython",
    "version": 3
   },
   "file_extension": ".py",
   "mimetype": "text/x-python",
   "name": "python",
   "nbconvert_exporter": "python",
   "pygments_lexer": "ipython3",
   "version": "3.12.3"
  }
 },
 "nbformat": 4,
 "nbformat_minor": 5
}
